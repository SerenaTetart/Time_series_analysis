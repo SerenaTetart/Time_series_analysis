{
 "cells": [
  {
   "cell_type": "markdown",
   "id": "5e8db9eb",
   "metadata": {},
   "source": [
    "<h3>Project 2: Deep learning forecasting on Bitcoin with Multivariate time series</h3>\n",
    "\n",
    "This time, in order to predict more accurately the next 6 months we will use all the features in the dataset plus the Ethereum price because there must some indicator between these two cryptocurrency.\n",
    "\n",
    "We will even predict the next 6 months of Ethereum price."
   ]
  },
  {
   "cell_type": "markdown",
   "id": "66eea4c8",
   "metadata": {},
   "source": [
    "<h4>Part 1: Prediction on Bitcoin (only with Bitcoin's features)</h4>"
   ]
  },
  {
   "cell_type": "code",
   "execution_count": 4,
   "id": "0ac2a14c",
   "metadata": {},
   "outputs": [
    {
     "data": {
      "text/html": [
       "<div>\n",
       "<style scoped>\n",
       "    .dataframe tbody tr th:only-of-type {\n",
       "        vertical-align: middle;\n",
       "    }\n",
       "\n",
       "    .dataframe tbody tr th {\n",
       "        vertical-align: top;\n",
       "    }\n",
       "\n",
       "    .dataframe thead th {\n",
       "        text-align: right;\n",
       "    }\n",
       "</style>\n",
       "<table border=\"1\" class=\"dataframe\">\n",
       "  <thead>\n",
       "    <tr style=\"text-align: right;\">\n",
       "      <th></th>\n",
       "      <th>Open</th>\n",
       "      <th>High</th>\n",
       "      <th>Low</th>\n",
       "      <th>Close</th>\n",
       "      <th>Adj Close</th>\n",
       "      <th>Volume</th>\n",
       "    </tr>\n",
       "    <tr>\n",
       "      <th>Date</th>\n",
       "      <th></th>\n",
       "      <th></th>\n",
       "      <th></th>\n",
       "      <th></th>\n",
       "      <th></th>\n",
       "      <th></th>\n",
       "    </tr>\n",
       "  </thead>\n",
       "  <tbody>\n",
       "    <tr>\n",
       "      <th>2014-09-26</th>\n",
       "      <td>422.111301</td>\n",
       "      <td>431.163394</td>\n",
       "      <td>405.705799</td>\n",
       "      <td>416.144199</td>\n",
       "      <td>416.144199</td>\n",
       "      <td>30503340.0</td>\n",
       "    </tr>\n",
       "    <tr>\n",
       "      <th>2014-09-27</th>\n",
       "      <td>415.880499</td>\n",
       "      <td>425.008292</td>\n",
       "      <td>400.200800</td>\n",
       "      <td>410.362796</td>\n",
       "      <td>410.362796</td>\n",
       "      <td>29900590.0</td>\n",
       "    </tr>\n",
       "    <tr>\n",
       "      <th>2014-09-28</th>\n",
       "      <td>410.141601</td>\n",
       "      <td>419.423993</td>\n",
       "      <td>396.323599</td>\n",
       "      <td>405.636896</td>\n",
       "      <td>405.636896</td>\n",
       "      <td>28813600.0</td>\n",
       "    </tr>\n",
       "    <tr>\n",
       "      <th>2014-09-29</th>\n",
       "      <td>405.424103</td>\n",
       "      <td>415.161594</td>\n",
       "      <td>395.094397</td>\n",
       "      <td>403.703998</td>\n",
       "      <td>403.703998</td>\n",
       "      <td>28271400.0</td>\n",
       "    </tr>\n",
       "    <tr>\n",
       "      <th>2014-09-30</th>\n",
       "      <td>403.565604</td>\n",
       "      <td>411.929694</td>\n",
       "      <td>393.450397</td>\n",
       "      <td>401.507999</td>\n",
       "      <td>401.507999</td>\n",
       "      <td>28055770.0</td>\n",
       "    </tr>\n",
       "  </tbody>\n",
       "</table>\n",
       "</div>"
      ],
      "text/plain": [
       "                  Open        High         Low       Close   Adj Close  \\\n",
       "Date                                                                     \n",
       "2014-09-26  422.111301  431.163394  405.705799  416.144199  416.144199   \n",
       "2014-09-27  415.880499  425.008292  400.200800  410.362796  410.362796   \n",
       "2014-09-28  410.141601  419.423993  396.323599  405.636896  405.636896   \n",
       "2014-09-29  405.424103  415.161594  395.094397  403.703998  403.703998   \n",
       "2014-09-30  403.565604  411.929694  393.450397  401.507999  401.507999   \n",
       "\n",
       "                Volume  \n",
       "Date                    \n",
       "2014-09-26  30503340.0  \n",
       "2014-09-27  29900590.0  \n",
       "2014-09-28  28813600.0  \n",
       "2014-09-29  28271400.0  \n",
       "2014-09-30  28055770.0  "
      ]
     },
     "execution_count": 4,
     "metadata": {},
     "output_type": "execute_result"
    }
   ],
   "source": [
    "import pandas as pd\n",
    "import numpy as np\n",
    "import matplotlib.pyplot as plt\n",
    "from sklearn import metrics # for the evaluation\n",
    "from sklearn.preprocessing import MinMaxScaler\n",
    "import tensorflow as tf\n",
    "\n",
    "window_size = 10 #Moving Average window\n",
    "\n",
    "data = pd.read_csv(r'btc-price.csv')\n",
    "data.Date = pd.to_datetime(data.Date)\n",
    "data = data.set_index('Date')\n",
    "data = data.fillna(method='backfill')\n",
    "data = data.rolling(window=window_size, center=False).mean()\n",
    "data= data.dropna()\n",
    "data.head()"
   ]
  },
  {
   "cell_type": "code",
   "execution_count": 5,
   "id": "a23e16eb",
   "metadata": {},
   "outputs": [
    {
     "name": "stdout",
     "output_type": "stream",
     "text": [
      "X_data: (2456, 6)\n",
      "X_test: (120, 6)\n"
     ]
    }
   ],
   "source": [
    "from keras.preprocessing.sequence import TimeseriesGenerator\n",
    "\n",
    "n_past = 120 #Number of days used to predict\n",
    "n_futur = 120 #Number of days to predict\n",
    "BATCH_SIZE = 512\n",
    "\n",
    "sc = MinMaxScaler()\n",
    "X_data= data[:-n_futur].values\n",
    "X_test = data[-n_futur:].values\n",
    "sc.fit(X_data)\n",
    "X_data = sc.transform(X_data)\n",
    "print('X_data:', X_data.shape)\n",
    "print('X_test:', X_test.shape)\n",
    "\n",
    "train_generator = TimeseriesGenerator(X_data, X_data,  length=n_past, batch_size=BATCH_SIZE)\n",
    "\n",
    "date_train = data[:-n_futur].index\n",
    "date_test = data[-n_futur:].index"
   ]
  },
  {
   "cell_type": "code",
   "execution_count": 6,
   "id": "25be5c36",
   "metadata": {},
   "outputs": [
    {
     "name": "stdout",
     "output_type": "stream",
     "text": [
      "Model: \"sequential\"\n",
      "_________________________________________________________________\n",
      "Layer (type)                 Output Shape              Param #   \n",
      "=================================================================\n",
      "bidirectional (Bidirectional (None, None, 400)         331200    \n",
      "_________________________________________________________________\n",
      "dropout (Dropout)            (None, None, 400)         0         \n",
      "_________________________________________________________________\n",
      "bidirectional_1 (Bidirection (None, 300)               661200    \n",
      "_________________________________________________________________\n",
      "dropout_1 (Dropout)          (None, 300)               0         \n",
      "_________________________________________________________________\n",
      "dense (Dense)                (None, 6)                 1806      \n",
      "=================================================================\n",
      "Total params: 994,206\n",
      "Trainable params: 994,206\n",
      "Non-trainable params: 0\n",
      "_________________________________________________________________\n"
     ]
    }
   ],
   "source": [
    "lstm_model = tf.keras.models.Sequential([\n",
    "    tf.keras.layers.Bidirectional(tf.keras.layers.LSTM(200, return_sequences=True),input_shape=(None, X_data.shape[1])),\n",
    "    tf.keras.layers.Dropout(0.1),\n",
    "    tf.keras.layers.Bidirectional(tf.keras.layers.LSTM(150, return_sequences=False)),\n",
    "    tf.keras.layers.Dropout(0.1),\n",
    "    tf.keras.layers.Dense(X_data.shape[1])\n",
    "])\n",
    "lstm_model.compile(optimizer='adam', loss='mean_squared_error')\n",
    "lstm_model.summary()"
   ]
  },
  {
   "cell_type": "code",
   "execution_count": 7,
   "id": "3de4551f",
   "metadata": {},
   "outputs": [
    {
     "name": "stdout",
     "output_type": "stream",
     "text": [
      "Epoch 1/10\n",
      "5/5 [==============================] - 18s 2s/step - loss: 0.0120\n",
      "Epoch 2/10\n",
      "5/5 [==============================] - 10s 2s/step - loss: 0.0156\n",
      "Epoch 3/10\n",
      "5/5 [==============================] - 6s 1s/step - loss: 0.0047\n",
      "Epoch 4/10\n",
      "5/5 [==============================] - 6s 1s/step - loss: 0.0059\n",
      "Epoch 5/10\n",
      "5/5 [==============================] - 6s 1s/step - loss: 0.0026\n",
      "Epoch 6/10\n",
      "5/5 [==============================] - 6s 1s/step - loss: 0.0046\n",
      "Epoch 7/10\n",
      "5/5 [==============================] - 6s 1s/step - loss: 0.0041\n",
      "Epoch 8/10\n",
      "5/5 [==============================] - 6s 1s/step - loss: 0.0030\n",
      "Epoch 9/10\n",
      "5/5 [==============================] - 6s 1s/step - loss: 0.0017\n",
      "Epoch 10/10\n",
      "5/5 [==============================] - 6s 1s/step - loss: 0.0029\n"
     ]
    }
   ],
   "source": [
    "history = lstm_model.fit(train_generator,epochs=10)"
   ]
  },
  {
   "cell_type": "code",
   "execution_count": 8,
   "id": "fa2b41a3",
   "metadata": {},
   "outputs": [
    {
     "name": "stdout",
     "output_type": "stream",
     "text": [
      "(121, 6)\n"
     ]
    }
   ],
   "source": [
    "def predict(num_prediction, model):\n",
    "    prediction_list = X_data[-n_past:, :]\n",
    "    \n",
    "    for _ in range(num_prediction):\n",
    "        x = prediction_list[-n_past:, :]\n",
    "        x = x.reshape(1, n_past, X_data.shape[1])\n",
    "        out = model.predict(x)\n",
    "        prediction_list = np.concatenate([prediction_list, out])\n",
    "    prediction_list = prediction_list[n_past-1:, :]\n",
    "    \n",
    "        \n",
    "    return prediction_list\n",
    "\n",
    "def predict_dates(num_prediction):\n",
    "    prediction_dates = pd.date_range(date_train[-1], periods=num_prediction+1, freq='1D').tolist()\n",
    "    return prediction_dates\n",
    "\n",
    "forecast = predict(n_futur, lstm_model)\n",
    "forecast = sc.inverse_transform(forecast)\n",
    "print(forecast.shape)\n",
    "\n",
    "date_forecast = predict_dates(n_futur)"
   ]
  },
  {
   "cell_type": "code",
   "execution_count": 9,
   "id": "03468735",
   "metadata": {},
   "outputs": [
    {
     "data": {
      "text/plain": [
       "<matplotlib.legend.Legend at 0x22e94fba100>"
      ]
     },
     "execution_count": 9,
     "metadata": {},
     "output_type": "execute_result"
    },
    {
     "data": {
      "image/png": "[encoded data removed]",
      "text/plain": [
       "<Figure size 1080x504 with 1 Axes>"
      ]
     },
     "metadata": {
      "needs_background": "light"
     },
     "output_type": "display_data"
    }
   ],
   "source": [
    "plt.figure(figsize=(15, 7))\n",
    "plt.plot(date_test, X_test[:, data.columns.get_loc('Close')], color='blue', label='BTC Price')\n",
    "plt.plot(date_forecast, forecast[:, data.columns.get_loc('Close')], color='red', label='BTC Prediction')\n",
    "plt.title('Bitcoin Closing Price prediction')\n",
    "plt.legend()"
   ]
  },
  {
   "cell_type": "code",
   "execution_count": 10,
   "id": "84c0bd65",
   "metadata": {},
   "outputs": [],
   "source": [
    "X_data= data.values\n",
    "date_train = data.index\n",
    "\n",
    "X_data = sc.fit_transform(X_data)\n",
    "\n",
    "train_generator = TimeseriesGenerator(X_data, X_data,  length=n_past)"
   ]
  },
  {
   "cell_type": "code",
   "execution_count": 11,
   "id": "6ce06bfc",
   "metadata": {},
   "outputs": [
    {
     "name": "stdout",
     "output_type": "stream",
     "text": [
      "Epoch 1/15\n",
      "20/20 [==============================] - 6s 308ms/step - loss: 0.0045\n",
      "Epoch 2/15\n",
      "20/20 [==============================] - 6s 298ms/step - loss: 0.0132\n",
      "Epoch 3/15\n",
      "20/20 [==============================] - 6s 300ms/step - loss: 0.0064\n",
      "Epoch 4/15\n",
      "20/20 [==============================] - 6s 303ms/step - loss: 0.0026\n",
      "Epoch 5/15\n",
      "20/20 [==============================] - 6s 298ms/step - loss: 0.0027\n",
      "Epoch 6/15\n",
      "20/20 [==============================] - 6s 300ms/step - loss: 0.0043\n",
      "Epoch 7/15\n",
      "20/20 [==============================] - 6s 299ms/step - loss: 0.0049\n",
      "Epoch 8/15\n",
      "20/20 [==============================] - 6s 300ms/step - loss: 0.0040\n",
      "Epoch 9/15\n",
      "20/20 [==============================] - 6s 299ms/step - loss: 0.0062\n",
      "Epoch 10/15\n",
      "20/20 [==============================] - 6s 312ms/step - loss: 0.0021\n",
      "Epoch 11/15\n",
      "20/20 [==============================] - 6s 322ms/step - loss: 0.0011\n",
      "Epoch 12/15\n",
      "20/20 [==============================] - 6s 299ms/step - loss: 9.9719e-04\n",
      "Epoch 13/15\n",
      "20/20 [==============================] - 6s 297ms/step - loss: 8.1943e-04\n",
      "Epoch 14/15\n",
      "20/20 [==============================] - 6s 299ms/step - loss: 0.0011\n",
      "Epoch 15/15\n",
      "20/20 [==============================] - 6s 299ms/step - loss: 0.0019\n"
     ]
    },
    {
     "data": {
      "text/plain": [
       "<keras.callbacks.History at 0x22e94f7ccd0>"
      ]
     },
     "execution_count": 11,
     "metadata": {},
     "output_type": "execute_result"
    }
   ],
   "source": [
    "lstm_model.fit(train_generator, epochs = 10)"
   ]
  },
  {
   "cell_type": "code",
   "execution_count": 12,
   "id": "101cdf1c",
   "metadata": {},
   "outputs": [
    {
     "name": "stdout",
     "output_type": "stream",
     "text": [
      "(2576, 6)\n",
      "(121, 6)\n"
     ]
    }
   ],
   "source": [
    "forecast = predict(n_futur, lstm_model)\n",
    "forecast = sc.inverse_transform(forecast)\n",
    "X_data = sc.inverse_transform(X_data)\n",
    "print(X_data.shape)\n",
    "print(forecast.shape)\n",
    "\n",
    "date_forecast = predict_dates(n_futur)\n",
    "date_test = data.index"
   ]
  },
  {
   "cell_type": "code",
   "execution_count": 13,
   "id": "d70f051a",
   "metadata": {},
   "outputs": [
    {
     "data": {
      "text/plain": [
       "<matplotlib.legend.Legend at 0x22e801051c0>"
      ]
     },
     "execution_count": 13,
     "metadata": {},
     "output_type": "execute_result"
    },
    {
     "data": {
      "image/png": "[encoded data removed]",
      "text/plain": [
       "<Figure size 1080x504 with 1 Axes>"
      ]
     },
     "metadata": {
      "needs_background": "light"
     },
     "output_type": "display_data"
    }
   ],
   "source": [
    "plt.figure(figsize=(15, 7))\n",
    "plt.plot(date_train, X_data[:, data.columns.get_loc('Close')], color='blue', label='BTC Price')\n",
    "plt.plot(date_forecast, forecast[:, data.columns.get_loc('Close')], color='red', label='BTC Prediction')\n",
    "plt.title('Bitcoin Closing Price prediction')\n",
    "plt.legend()"
   ]
  },
  {
   "cell_type": "markdown",
   "id": "eeaba63d",
   "metadata": {},
   "source": [
    "<h4>Part 2: Prediction on Ethereum (only with Ethereum's features)</h4>"
   ]
  },
  {
   "cell_type": "code",
   "execution_count": 14,
   "id": "a8f3743c",
   "metadata": {},
   "outputs": [
    {
     "data": {
      "text/html": [
       "<div>\n",
       "<style scoped>\n",
       "    .dataframe tbody tr th:only-of-type {\n",
       "        vertical-align: middle;\n",
       "    }\n",
       "\n",
       "    .dataframe tbody tr th {\n",
       "        vertical-align: top;\n",
       "    }\n",
       "\n",
       "    .dataframe thead th {\n",
       "        text-align: right;\n",
       "    }\n",
       "</style>\n",
       "<table border=\"1\" class=\"dataframe\">\n",
       "  <thead>\n",
       "    <tr style=\"text-align: right;\">\n",
       "      <th></th>\n",
       "      <th>Open</th>\n",
       "      <th>High</th>\n",
       "      <th>Low</th>\n",
       "      <th>Close</th>\n",
       "      <th>Volume</th>\n",
       "      <th>Market Cap</th>\n",
       "    </tr>\n",
       "    <tr>\n",
       "      <th>Date</th>\n",
       "      <th></th>\n",
       "      <th></th>\n",
       "      <th></th>\n",
       "      <th></th>\n",
       "      <th></th>\n",
       "      <th></th>\n",
       "    </tr>\n",
       "  </thead>\n",
       "  <tbody>\n",
       "    <tr>\n",
       "      <th>2015-08-16</th>\n",
       "      <td>1.413156</td>\n",
       "      <td>1.621044</td>\n",
       "      <td>1.030018</td>\n",
       "      <td>1.251362</td>\n",
       "      <td>2.079956e+06</td>\n",
       "      <td>7.792070e+07</td>\n",
       "    </tr>\n",
       "    <tr>\n",
       "      <th>2015-08-17</th>\n",
       "      <td>1.256305</td>\n",
       "      <td>1.474279</td>\n",
       "      <td>1.068053</td>\n",
       "      <td>1.289382</td>\n",
       "      <td>2.224915e+06</td>\n",
       "      <td>7.633894e+07</td>\n",
       "    </tr>\n",
       "    <tr>\n",
       "      <th>2015-08-18</th>\n",
       "      <td>1.289678</td>\n",
       "      <td>1.518097</td>\n",
       "      <td>1.113839</td>\n",
       "      <td>1.341564</td>\n",
       "      <td>2.332971e+06</td>\n",
       "      <td>8.191127e+07</td>\n",
       "    </tr>\n",
       "    <tr>\n",
       "      <th>2015-08-19</th>\n",
       "      <td>1.345374</td>\n",
       "      <td>1.598442</td>\n",
       "      <td>1.175017</td>\n",
       "      <td>1.417339</td>\n",
       "      <td>2.468671e+06</td>\n",
       "      <td>8.748923e+07</td>\n",
       "    </tr>\n",
       "    <tr>\n",
       "      <th>2015-08-20</th>\n",
       "      <td>1.421021</td>\n",
       "      <td>1.640943</td>\n",
       "      <td>1.243974</td>\n",
       "      <td>1.453471</td>\n",
       "      <td>2.660566e+06</td>\n",
       "      <td>9.365187e+07</td>\n",
       "    </tr>\n",
       "  </tbody>\n",
       "</table>\n",
       "</div>"
      ],
      "text/plain": [
       "                Open      High       Low     Close        Volume    Market Cap\n",
       "Date                                                                          \n",
       "2015-08-16  1.413156  1.621044  1.030018  1.251362  2.079956e+06  7.792070e+07\n",
       "2015-08-17  1.256305  1.474279  1.068053  1.289382  2.224915e+06  7.633894e+07\n",
       "2015-08-18  1.289678  1.518097  1.113839  1.341564  2.332971e+06  8.191127e+07\n",
       "2015-08-19  1.345374  1.598442  1.175017  1.417339  2.468671e+06  8.748923e+07\n",
       "2015-08-20  1.421021  1.640943  1.243974  1.453471  2.660566e+06  9.365187e+07"
      ]
     },
     "execution_count": 14,
     "metadata": {},
     "output_type": "execute_result"
    }
   ],
   "source": [
    "data = pd.read_csv(r'ethereum-price.csv')\n",
    "data.Date = pd.to_datetime(data.Date)\n",
    "data = data.set_index('Date')\n",
    "data = data.fillna(method='backfill')\n",
    "data = data[::-1]\n",
    "data = data.rolling(window=window_size, center=False).mean()\n",
    "data= data.dropna()\n",
    "data.head()"
   ]
  },
  {
   "cell_type": "code",
   "execution_count": 15,
   "id": "cf27eb72",
   "metadata": {},
   "outputs": [
    {
     "name": "stdout",
     "output_type": "stream",
     "text": [
      "X_data: (2131, 6)\n",
      "X_test: (120, 6)\n"
     ]
    }
   ],
   "source": [
    "n_past = 120 #Number of days used to predict\n",
    "n_futur = 120 #Number of days to predict\n",
    "\n",
    "sc = MinMaxScaler()\n",
    "X_data= data[:-n_futur].values\n",
    "X_test = data[-n_futur:].values\n",
    "sc.fit(X_data)\n",
    "X_data = sc.transform(X_data)\n",
    "print('X_data:', X_data.shape)\n",
    "print('X_test:', X_test.shape)\n",
    "\n",
    "train_generator = TimeseriesGenerator(X_data, X_data,  length=n_past, batch_size=BATCH_SIZE)\n",
    "\n",
    "date_train = data[:-n_futur].index\n",
    "date_test = data[-n_futur:].index"
   ]
  },
  {
   "cell_type": "code",
   "execution_count": 16,
   "id": "c3ac6889",
   "metadata": {},
   "outputs": [
    {
     "name": "stdout",
     "output_type": "stream",
     "text": [
      "Model: \"sequential_1\"\n",
      "_________________________________________________________________\n",
      "Layer (type)                 Output Shape              Param #   \n",
      "=================================================================\n",
      "bidirectional_2 (Bidirection (None, None, 400)         331200    \n",
      "_________________________________________________________________\n",
      "dropout_2 (Dropout)          (None, None, 400)         0         \n",
      "_________________________________________________________________\n",
      "bidirectional_3 (Bidirection (None, 300)               661200    \n",
      "_________________________________________________________________\n",
      "dropout_3 (Dropout)          (None, 300)               0         \n",
      "_________________________________________________________________\n",
      "dense_1 (Dense)              (None, 120)               36120     \n",
      "_________________________________________________________________\n",
      "dropout_4 (Dropout)          (None, 120)               0         \n",
      "_________________________________________________________________\n",
      "dense_2 (Dense)              (None, 6)                 726       \n",
      "=================================================================\n",
      "Total params: 1,029,246\n",
      "Trainable params: 1,029,246\n",
      "Non-trainable params: 0\n",
      "_________________________________________________________________\n"
     ]
    }
   ],
   "source": [
    "lstm_model = tf.keras.models.Sequential([\n",
    "    tf.keras.layers.Bidirectional(tf.keras.layers.LSTM(200, return_sequences=True),input_shape=(None, X_data.shape[1])),\n",
    "    tf.keras.layers.Dropout(0.1),\n",
    "    tf.keras.layers.Bidirectional(tf.keras.layers.LSTM(150, return_sequences=False)),\n",
    "    tf.keras.layers.Dropout(0.1),\n",
    "    tf.keras.layers.Dense(120, activation='relu'),\n",
    "    tf.keras.layers.Dropout(0.1),\n",
    "    tf.keras.layers.Dense(X_data.shape[1])\n",
    "])\n",
    "lstm_model.compile(optimizer='adam', loss='mean_squared_error')\n",
    "lstm_model.summary()"
   ]
  },
  {
   "cell_type": "code",
   "execution_count": 17,
   "id": "606349dc",
   "metadata": {},
   "outputs": [
    {
     "name": "stdout",
     "output_type": "stream",
     "text": [
      "Epoch 1/10\n",
      "4/4 [==============================] - 10s 1s/step - loss: 0.0313\n",
      "Epoch 2/10\n",
      "4/4 [==============================] - 5s 1s/step - loss: 0.0112\n",
      "Epoch 3/10\n",
      "4/4 [==============================] - 5s 1s/step - loss: 0.0094\n",
      "Epoch 4/10\n",
      "4/4 [==============================] - 5s 1s/step - loss: 0.0093\n",
      "Epoch 5/10\n",
      "4/4 [==============================] - 6s 2s/step - loss: 0.0069\n",
      "Epoch 6/10\n",
      "4/4 [==============================] - 5s 1s/step - loss: 0.0045\n",
      "Epoch 7/10\n",
      "4/4 [==============================] - 5s 1s/step - loss: 0.0033\n",
      "Epoch 8/10\n",
      "4/4 [==============================] - 5s 1s/step - loss: 0.0030\n",
      "Epoch 9/10\n",
      "4/4 [==============================] - 5s 1s/step - loss: 0.0024\n",
      "Epoch 10/10\n",
      "4/4 [==============================] - 5s 1s/step - loss: 0.0027\n"
     ]
    }
   ],
   "source": [
    "history = lstm_model.fit(train_generator,epochs=10)"
   ]
  },
  {
   "cell_type": "code",
   "execution_count": 18,
   "id": "c7db3731",
   "metadata": {},
   "outputs": [
    {
     "name": "stdout",
     "output_type": "stream",
     "text": [
      "(121, 6)\n"
     ]
    }
   ],
   "source": [
    "forecast = predict(n_futur, lstm_model)\n",
    "forecast = sc.inverse_transform(forecast)\n",
    "print(forecast.shape)\n",
    "\n",
    "date_forecast = predict_dates(n_futur)"
   ]
  },
  {
   "cell_type": "code",
   "execution_count": 19,
   "id": "0a079cb9",
   "metadata": {},
   "outputs": [
    {
     "data": {
      "text/plain": [
       "<matplotlib.legend.Legend at 0x22ff2a989a0>"
      ]
     },
     "execution_count": 19,
     "metadata": {},
     "output_type": "execute_result"
    },
    {
     "data": {
      "image/png": "[encoded data removed]",
      "text/plain": [
       "<Figure size 1080x504 with 1 Axes>"
      ]
     },
     "metadata": {
      "needs_background": "light"
     },
     "output_type": "display_data"
    }
   ],
   "source": [
    "plt.figure(figsize=(15, 7))\n",
    "plt.plot(date_test, X_test[:, data.columns.get_loc('Close')], color='blue', label='ETH Price')\n",
    "plt.plot(date_forecast, forecast[:, data.columns.get_loc('Close')], color='red', label='ETH Prediction')\n",
    "plt.title('Ethereum Closing Price prediction')\n",
    "plt.legend()"
   ]
  },
  {
   "cell_type": "code",
   "execution_count": 20,
   "id": "c2384520",
   "metadata": {},
   "outputs": [],
   "source": [
    "X_data= data.values\n",
    "date_train = data.index\n",
    "\n",
    "X_data = sc.fit_transform(X_data)\n",
    "\n",
    "train_generator = TimeseriesGenerator(X_data, X_data,  length=n_past)"
   ]
  },
  {
   "cell_type": "code",
   "execution_count": 21,
   "id": "d462c0bb",
   "metadata": {},
   "outputs": [
    {
     "name": "stdout",
     "output_type": "stream",
     "text": [
      "Epoch 1/15\n",
      "17/17 [==============================] - 5s 277ms/step - loss: 0.0031\n",
      "Epoch 2/15\n",
      "17/17 [==============================] - 5s 276ms/step - loss: 0.0084\n",
      "Epoch 3/15\n",
      "17/17 [==============================] - 5s 276ms/step - loss: 0.0283\n",
      "Epoch 4/15\n",
      "17/17 [==============================] - 5s 277ms/step - loss: 0.0116\n",
      "Epoch 5/15\n",
      "17/17 [==============================] - 5s 277ms/step - loss: 0.0211\n",
      "Epoch 6/15\n",
      "17/17 [==============================] - 5s 275ms/step - loss: 0.0086\n",
      "Epoch 7/15\n",
      "17/17 [==============================] - 5s 276ms/step - loss: 0.0122\n",
      "Epoch 8/15\n",
      "17/17 [==============================] - 5s 276ms/step - loss: 0.0043\n",
      "Epoch 9/15\n",
      "17/17 [==============================] - 5s 283ms/step - loss: 0.0026\n",
      "Epoch 10/15\n",
      "17/17 [==============================] - 5s 276ms/step - loss: 0.0020TA: 3s \n",
      "Epoch 11/15\n",
      "17/17 [==============================] - 5s 277ms/step - loss: 0.0018\n",
      "Epoch 12/15\n",
      "17/17 [==============================] - 5s 276ms/step - loss: 0.0021\n",
      "Epoch 13/15\n",
      "17/17 [==============================] - 5s 277ms/step - loss: 0.0017\n",
      "Epoch 14/15\n",
      "17/17 [==============================] - 5s 277ms/step - loss: 0.0015\n",
      "Epoch 15/15\n",
      "17/17 [==============================] - 5s 277ms/step - loss: 0.0014\n"
     ]
    },
    {
     "data": {
      "text/plain": [
       "<keras.callbacks.History at 0x22ff2abf220>"
      ]
     },
     "execution_count": 21,
     "metadata": {},
     "output_type": "execute_result"
    }
   ],
   "source": [
    "lstm_model.fit(train_generator, epochs = 10)"
   ]
  },
  {
   "cell_type": "code",
   "execution_count": 22,
   "id": "1bda32b2",
   "metadata": {},
   "outputs": [
    {
     "name": "stdout",
     "output_type": "stream",
     "text": [
      "(2251, 6)\n",
      "(121, 6)\n"
     ]
    }
   ],
   "source": [
    "forecast = predict(n_futur, lstm_model)\n",
    "forecast = sc.inverse_transform(forecast)\n",
    "X_data = sc.inverse_transform(X_data)\n",
    "print(X_data.shape)\n",
    "print(forecast.shape)\n",
    "\n",
    "date_forecast = predict_dates(n_futur)"
   ]
  },
  {
   "cell_type": "code",
   "execution_count": 23,
   "id": "adc0280e",
   "metadata": {},
   "outputs": [
    {
     "data": {
      "text/plain": [
       "<matplotlib.legend.Legend at 0x230093447f0>"
      ]
     },
     "execution_count": 23,
     "metadata": {},
     "output_type": "execute_result"
    },
    {
     "data": {
      "image/png": "[encoded data removed]",
      "text/plain": [
       "<Figure size 1080x504 with 1 Axes>"
      ]
     },
     "metadata": {
      "needs_background": "light"
     },
     "output_type": "display_data"
    }
   ],
   "source": [
    "plt.figure(figsize=(15, 7))\n",
    "plt.plot(date_train, X_data[:, data.columns.get_loc('Close')], color='blue', label='ETH Price')\n",
    "plt.plot(date_forecast, forecast[:, data.columns.get_loc('Close')], color='red', label='ETH Prediction')\n",
    "plt.title('Ethereum Closing Price prediction')\n",
    "plt.legend()"
   ]
  },
  {
   "cell_type": "markdown",
   "id": "6cbe828d",
   "metadata": {},
   "source": [
    "<h4>Part 3: Prediction on both Bitcoin and Ethereum</h4>\n",
    "\n",
    "We will combine both dataset in this part and try to predict both at the same time (this will fail obviously)."
   ]
  },
  {
   "cell_type": "code",
   "execution_count": 24,
   "id": "a2816eee",
   "metadata": {},
   "outputs": [
    {
     "name": "stdout",
     "output_type": "stream",
     "text": [
      "        Date         Open         High         Low        Close        Volume\n",
      "0 2021-10-13  3608.916400  3817.956300  3600.57290  3794.051878  2.467159e+10\n",
      "1 2021-10-12  3499.203294  3607.459328  3430.69686  3602.466500  2.231418e+10\n",
      "2 2021-10-11  3542.105961  3543.074443  3418.78420  3494.820215  2.450334e+10\n",
      "3 2021-10-10  3429.678100  3617.762503  3407.56980  3542.105961  2.611460e+10\n",
      "4 2021-10-09  3582.206042  3604.313994  3432.53080  3433.770300  2.045228e+10\n"
     ]
    },
    {
     "data": {
      "text/html": [
       "<div>\n",
       "<style scoped>\n",
       "    .dataframe tbody tr th:only-of-type {\n",
       "        vertical-align: middle;\n",
       "    }\n",
       "\n",
       "    .dataframe tbody tr th {\n",
       "        vertical-align: top;\n",
       "    }\n",
       "\n",
       "    .dataframe thead th {\n",
       "        text-align: right;\n",
       "    }\n",
       "</style>\n",
       "<table border=\"1\" class=\"dataframe\">\n",
       "  <thead>\n",
       "    <tr style=\"text-align: right;\">\n",
       "      <th></th>\n",
       "      <th>Open_x</th>\n",
       "      <th>High_x</th>\n",
       "      <th>Low_x</th>\n",
       "      <th>Close_x</th>\n",
       "      <th>Volume_x</th>\n",
       "      <th>Open_y</th>\n",
       "      <th>High_y</th>\n",
       "      <th>Low_y</th>\n",
       "      <th>Close_y</th>\n",
       "      <th>Volume_y</th>\n",
       "    </tr>\n",
       "    <tr>\n",
       "      <th>Date</th>\n",
       "      <th></th>\n",
       "      <th></th>\n",
       "      <th></th>\n",
       "      <th></th>\n",
       "      <th></th>\n",
       "      <th></th>\n",
       "      <th></th>\n",
       "      <th></th>\n",
       "      <th></th>\n",
       "      <th></th>\n",
       "    </tr>\n",
       "  </thead>\n",
       "  <tbody>\n",
       "    <tr>\n",
       "      <th>2015-08-16</th>\n",
       "      <td>267.772699</td>\n",
       "      <td>269.821899</td>\n",
       "      <td>263.235895</td>\n",
       "      <td>265.671497</td>\n",
       "      <td>30185090.0</td>\n",
       "      <td>1.413156</td>\n",
       "      <td>1.621044</td>\n",
       "      <td>1.030018</td>\n",
       "      <td>1.251362</td>\n",
       "      <td>2.079956e+06</td>\n",
       "    </tr>\n",
       "    <tr>\n",
       "      <th>2015-08-17</th>\n",
       "      <td>265.747598</td>\n",
       "      <td>267.833200</td>\n",
       "      <td>261.310995</td>\n",
       "      <td>263.510599</td>\n",
       "      <td>28098400.0</td>\n",
       "      <td>1.256305</td>\n",
       "      <td>1.474279</td>\n",
       "      <td>1.068053</td>\n",
       "      <td>1.289382</td>\n",
       "      <td>2.224915e+06</td>\n",
       "    </tr>\n",
       "    <tr>\n",
       "      <th>2015-08-18</th>\n",
       "      <td>263.565997</td>\n",
       "      <td>265.639700</td>\n",
       "      <td>256.347896</td>\n",
       "      <td>258.518797</td>\n",
       "      <td>26459820.0</td>\n",
       "      <td>1.289678</td>\n",
       "      <td>1.518097</td>\n",
       "      <td>1.113839</td>\n",
       "      <td>1.341564</td>\n",
       "      <td>2.332971e+06</td>\n",
       "    </tr>\n",
       "    <tr>\n",
       "      <th>2015-08-19</th>\n",
       "      <td>260.021498</td>\n",
       "      <td>262.680301</td>\n",
       "      <td>252.577698</td>\n",
       "      <td>254.678897</td>\n",
       "      <td>30167780.0</td>\n",
       "      <td>1.345374</td>\n",
       "      <td>1.598442</td>\n",
       "      <td>1.175017</td>\n",
       "      <td>1.417339</td>\n",
       "      <td>2.468671e+06</td>\n",
       "    </tr>\n",
       "    <tr>\n",
       "      <th>2015-08-20</th>\n",
       "      <td>256.163599</td>\n",
       "      <td>259.713600</td>\n",
       "      <td>249.007997</td>\n",
       "      <td>251.766898</td>\n",
       "      <td>31297340.0</td>\n",
       "      <td>1.421021</td>\n",
       "      <td>1.640943</td>\n",
       "      <td>1.243974</td>\n",
       "      <td>1.453471</td>\n",
       "      <td>2.660566e+06</td>\n",
       "    </tr>\n",
       "  </tbody>\n",
       "</table>\n",
       "</div>"
      ],
      "text/plain": [
       "                Open_x      High_x       Low_x     Close_x    Volume_x  \\\n",
       "Date                                                                     \n",
       "2015-08-16  267.772699  269.821899  263.235895  265.671497  30185090.0   \n",
       "2015-08-17  265.747598  267.833200  261.310995  263.510599  28098400.0   \n",
       "2015-08-18  263.565997  265.639700  256.347896  258.518797  26459820.0   \n",
       "2015-08-19  260.021498  262.680301  252.577698  254.678897  30167780.0   \n",
       "2015-08-20  256.163599  259.713600  249.007997  251.766898  31297340.0   \n",
       "\n",
       "              Open_y    High_y     Low_y   Close_y      Volume_y  \n",
       "Date                                                              \n",
       "2015-08-16  1.413156  1.621044  1.030018  1.251362  2.079956e+06  \n",
       "2015-08-17  1.256305  1.474279  1.068053  1.289382  2.224915e+06  \n",
       "2015-08-18  1.289678  1.518097  1.113839  1.341564  2.332971e+06  \n",
       "2015-08-19  1.345374  1.598442  1.175017  1.417339  2.468671e+06  \n",
       "2015-08-20  1.421021  1.640943  1.243974  1.453471  2.660566e+06  "
      ]
     },
     "execution_count": 24,
     "metadata": {},
     "output_type": "execute_result"
    }
   ],
   "source": [
    "dataBTC = pd.read_csv(r'btc-price.csv')\n",
    "dataBTC.Date = pd.to_datetime(dataBTC.Date)\n",
    "dataBTC.drop(columns = ['Adj Close'], inplace=True)\n",
    "dataETH = pd.read_csv(r'ethereum-price.csv')\n",
    "dataETH.Date = pd.to_datetime(dataETH.Date)\n",
    "dataETH.drop(columns = ['Market Cap'], inplace=True)\n",
    "print(dataETH.head())\n",
    "data = pd.merge(dataBTC, dataETH, on='Date', how='inner')\n",
    "data = data.set_index('Date')\n",
    "data = data.fillna(method='backfill')\n",
    "data = data.rolling(window=window_size, center=False).mean()\n",
    "data= data.dropna()\n",
    "data.head()"
   ]
  },
  {
   "cell_type": "code",
   "execution_count": 25,
   "id": "bf413bb2",
   "metadata": {},
   "outputs": [
    {
     "name": "stdout",
     "output_type": "stream",
     "text": [
      "X_data: (2131, 10)\n",
      "X_test: (120, 10)\n"
     ]
    }
   ],
   "source": [
    "n_past = 120 #Number of days used to predict\n",
    "n_futur = 120 #Number of days to predict\n",
    "\n",
    "sc = MinMaxScaler()\n",
    "X_data= data[:-n_futur].values\n",
    "X_test = data[-n_futur:].values\n",
    "sc.fit(X_data)\n",
    "X_data = sc.transform(X_data)\n",
    "print('X_data:', X_data.shape)\n",
    "print('X_test:', X_test.shape)\n",
    "\n",
    "train_generator = TimeseriesGenerator(X_data, X_data,  length=n_past, batch_size=BATCH_SIZE)\n",
    "\n",
    "date_train = data[:-n_futur].index\n",
    "date_test = data[-n_futur:].index"
   ]
  },
  {
   "cell_type": "code",
   "execution_count": 26,
   "id": "45231448",
   "metadata": {},
   "outputs": [
    {
     "name": "stdout",
     "output_type": "stream",
     "text": [
      "Model: \"sequential_2\"\n",
      "_________________________________________________________________\n",
      "Layer (type)                 Output Shape              Param #   \n",
      "=================================================================\n",
      "bidirectional_4 (Bidirection (None, None, 400)         337600    \n",
      "_________________________________________________________________\n",
      "dropout_5 (Dropout)          (None, None, 400)         0         \n",
      "_________________________________________________________________\n",
      "bidirectional_5 (Bidirection (None, 400)               961600    \n",
      "_________________________________________________________________\n",
      "dropout_6 (Dropout)          (None, 400)               0         \n",
      "_________________________________________________________________\n",
      "dense_3 (Dense)              (None, 120)               48120     \n",
      "_________________________________________________________________\n",
      "dropout_7 (Dropout)          (None, 120)               0         \n",
      "_________________________________________________________________\n",
      "dense_4 (Dense)              (None, 10)                1210      \n",
      "=================================================================\n",
      "Total params: 1,348,530\n",
      "Trainable params: 1,348,530\n",
      "Non-trainable params: 0\n",
      "_________________________________________________________________\n"
     ]
    }
   ],
   "source": [
    "lstm_model = tf.keras.models.Sequential([\n",
    "    tf.keras.layers.Bidirectional(tf.keras.layers.LSTM(200, return_sequences=True),input_shape=(None, X_data.shape[1])),\n",
    "    tf.keras.layers.Dropout(0.1),\n",
    "    tf.keras.layers.Bidirectional(tf.keras.layers.LSTM(200, return_sequences=False)),\n",
    "    tf.keras.layers.Dropout(0.1),\n",
    "    tf.keras.layers.Dense(120, activation='relu'),\n",
    "    tf.keras.layers.Dropout(0.1),\n",
    "    tf.keras.layers.Dense(X_data.shape[1])\n",
    "])\n",
    "lstm_model.compile(optimizer='adam', loss='mean_squared_logarithmic_error')\n",
    "lstm_model.summary()"
   ]
  },
  {
   "cell_type": "code",
   "execution_count": 27,
   "id": "266f450d",
   "metadata": {},
   "outputs": [
    {
     "name": "stdout",
     "output_type": "stream",
     "text": [
      "Epoch 1/15\n",
      "4/4 [==============================] - 10s 1s/step - loss: 0.0102\n",
      "Epoch 2/15\n",
      "4/4 [==============================] - 5s 1s/step - loss: 0.0122\n",
      "Epoch 3/15\n",
      "4/4 [==============================] - 5s 1s/step - loss: 0.0064\n",
      "Epoch 4/15\n",
      "4/4 [==============================] - 5s 1s/step - loss: 0.0052\n",
      "Epoch 5/15\n",
      "4/4 [==============================] - 5s 1s/step - loss: 0.0048\n",
      "Epoch 6/15\n",
      "4/4 [==============================] - 5s 1s/step - loss: 0.0046\n",
      "Epoch 7/15\n",
      "4/4 [==============================] - 5s 1s/step - loss: 0.0032\n",
      "Epoch 8/15\n",
      "4/4 [==============================] - 6s 2s/step - loss: 0.0064\n",
      "Epoch 9/15\n",
      "4/4 [==============================] - 7s 2s/step - loss: 0.0021\n",
      "Epoch 10/15\n",
      "4/4 [==============================] - 8s 2s/step - loss: 0.0022\n",
      "Epoch 11/15\n",
      "4/4 [==============================] - 9s 2s/step - loss: 0.0016\n",
      "Epoch 12/15\n",
      "4/4 [==============================] - 9s 2s/step - loss: 0.0015\n",
      "Epoch 13/15\n",
      "4/4 [==============================] - 7s 1s/step - loss: 0.0012\n",
      "Epoch 14/15\n",
      "4/4 [==============================] - 6s 2s/step - loss: 0.0011\n",
      "Epoch 15/15\n",
      "4/4 [==============================] - 6s 2s/step - loss: 0.0010\n"
     ]
    }
   ],
   "source": [
    "history = lstm_model.fit(train_generator,epochs=15)"
   ]
  },
  {
   "cell_type": "code",
   "execution_count": 28,
   "id": "4ee1fc7c",
   "metadata": {},
   "outputs": [
    {
     "name": "stdout",
     "output_type": "stream",
     "text": [
      "(121, 10)\n"
     ]
    }
   ],
   "source": [
    "forecast = predict(n_futur, lstm_model)\n",
    "forecast = sc.inverse_transform(forecast)\n",
    "print(forecast.shape)\n",
    "\n",
    "date_forecast = predict_dates(n_futur)"
   ]
  },
  {
   "cell_type": "code",
   "execution_count": 29,
   "id": "248f3655",
   "metadata": {},
   "outputs": [
    {
     "data": {
      "text/plain": [
       "<matplotlib.legend.Legend at 0x230330e21c0>"
      ]
     },
     "execution_count": 29,
     "metadata": {},
     "output_type": "execute_result"
    },
    {
     "data": {
      "image/png": "[encoded data removed]",
      "text/plain": [
       "<Figure size 1080x504 with 1 Axes>"
      ]
     },
     "metadata": {
      "needs_background": "light"
     },
     "output_type": "display_data"
    }
   ],
   "source": [
    "plt.figure(figsize=(15, 7))\n",
    "plt.plot(date_test, X_test[:, data.columns.get_loc('Close_x')], color='blue', label='BTC Price')\n",
    "plt.plot(date_forecast, forecast[:, data.columns.get_loc('Close_x')], color='red', label='BTC Prediction')\n",
    "plt.title('Bitcoin Closing Price prediction')\n",
    "plt.legend()"
   ]
  },
  {
   "cell_type": "code",
   "execution_count": 30,
   "id": "9e0649cd",
   "metadata": {},
   "outputs": [
    {
     "data": {
      "text/plain": [
       "<matplotlib.legend.Legend at 0x23032fc9400>"
      ]
     },
     "execution_count": 30,
     "metadata": {},
     "output_type": "execute_result"
    },
    {
     "data": {
      "image/png": "[encoded data removed]",
      "text/plain": [
       "<Figure size 1080x504 with 1 Axes>"
      ]
     },
     "metadata": {
      "needs_background": "light"
     },
     "output_type": "display_data"
    }
   ],
   "source": [
    "plt.figure(figsize=(15, 7))\n",
    "plt.plot(date_test, X_test[:, data.columns.get_loc('Close_y')], color='blue', label='ETH Price')\n",
    "plt.plot(date_forecast, forecast[:, data.columns.get_loc('Close_y')], color='red', label='ETH Prediction')\n",
    "plt.title('Ethereum Closing Price prediction')\n",
    "plt.legend()"
   ]
  },
  {
   "cell_type": "markdown",
   "id": "a260123f",
   "metadata": {},
   "source": [
    "To conclude:\n",
    "\n",
    "Well this is too bad to predict the next 6 months...\n",
    "\n",
    "This is because there are too many features and the loss isn't adapted for this kind of problem.\n",
    "We should look at transformers and attention mechanism in a futur notebook to solve these problems."
   ]
  },
  {
   "cell_type": "code",
   "execution_count": null,
   "id": "e75c3663",
   "metadata": {},
   "outputs": [],
   "source": []
  }
 ],
 "metadata": {
  "kernelspec": {
   "display_name": "Python 3 (ipykernel)",
   "language": "python",
   "name": "python3"
  },
  "language_info": {
   "codemirror_mode": {
    "name": "ipython",
    "version": 3
   },
   "file_extension": ".py",
   "mimetype": "text/x-python",
   "name": "python",
   "nbconvert_exporter": "python",
   "pygments_lexer": "ipython3",
   "version": "3.9.7"
  }
 },
 "nbformat": 4,
 "nbformat_minor": 5
}
